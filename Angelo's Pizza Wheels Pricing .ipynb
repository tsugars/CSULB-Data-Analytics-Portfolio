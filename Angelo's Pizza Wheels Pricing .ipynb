{
 "cells": [
  {
   "cell_type": "markdown",
   "id": "c9cf4151",
   "metadata": {},
   "source": [
    "# Angelo's Pizza Wheels 🍕🚚"
   ]
  },
  {
   "cell_type": "markdown",
   "id": "4f054d41",
   "metadata": {},
   "source": [
    "#### @AngelosPizza has been a virtual business with customers ordering custom pies via Instagram DMs. Angelo has made so much money that he is now able to upgrade to Angelo’s Pizza Wheels, a pizza food truck that he can bring to local farmers’ markets and events.\n",
    "#### Up to this point, Angelo has been pricing his pizzas randomly based on what he has in his apartment. With the food truck, he’d like to have a steady price that will allow him to create basic and custom pizzas.\n",
    "#### Help Angelo produce a function that models his pizza pie dilemma."
   ]
  },
  {
   "cell_type": "markdown",
   "id": "e253be01",
   "metadata": {},
   "source": [
    "At Angelo’s Pizza Wheels, you have:\n",
    "- Three sauce options (red, white, and pesto)\n",
    "- Three cheese options (mozzarella, feta, and ricotta)\n",
    "- Two glazes (olive oil and balsamic)\n",
    "- Eight Regular Toppings (olives, mushrooms, peppers, pepperoni, sausage, meatballs, arugula, and prosciutto)"
   ]
  },
  {
   "cell_type": "markdown",
   "id": "8c8f1810",
   "metadata": {},
   "source": [
    "## Let's Try Two Different Exercise:"
   ]
  },
  {
   "cell_type": "markdown",
   "id": "fb6ba2f9",
   "metadata": {},
   "source": [
    "### Excercise #1\n",
    "Since most sauce, cheese, and glaze options are similar in price, Angelo will charge a base price of \\$8 for a pizza. This means that no matter what sauce, cheese combination, or glaze is chosen, the pizza will be at least \\\\$8.\n",
    "\n",
    "Angelo would like to charge an extra \\$0.50 per topping. For instance, if someone chose to top their pizza with sausage, meatballs, and prosciutto, their cost would be 3 x \\\\$0.50 or \\\\\\$1.50.\n",
    "\n",
    "Write a function that models the relationship between regular pizza toppings choices and the final piza price. "
   ]
  },
  {
   "cell_type": "code",
   "execution_count": 1,
   "id": "31eb06c6",
   "metadata": {},
   "outputs": [],
   "source": [
    "def total_pizza_price(reg_toppings_numcount):\n",
    "    \"\"\"Calculates the price of a pizza.\n",
    "    \n",
    "    Based off the established base price; Input number count of regular toppings selected. \"\"\"\n",
    "    pizza_base_price = 8\n",
    "    reg_toppings_price = 0.50 \n",
    "    pizza_price = pizza_base_price + (reg_toppings_numcount * reg_toppings_price)\n",
    "    return(pizza_price)"
   ]
  },
  {
   "cell_type": "markdown",
   "id": "e2f46397",
   "metadata": {},
   "source": [
    "Now lets try out our function.\n",
    "We will take orders from 4 customers.\n",
    "- Customer 1: All the Veggies you have please!\n",
    "- Customer 2: Meatlovers sounds good but no meatballs!\n",
    "- Customer 3: No Toppings, the sauce, cheese, and glaze speaks for itself!\n",
    "- Customer 4: Lets Try them all!"
   ]
  },
  {
   "cell_type": "code",
   "execution_count": 2,
   "id": "4cb1471c",
   "metadata": {},
   "outputs": [
    {
     "data": {
      "text/plain": [
       "10.0"
      ]
     },
     "execution_count": 2,
     "metadata": {},
     "output_type": "execute_result"
    }
   ],
   "source": [
    "#Customer 1 requested all the veggies, so that would be 4.\n",
    "total_pizza_price (4)"
   ]
  },
  {
   "cell_type": "code",
   "execution_count": 3,
   "id": "c0e20ed5",
   "metadata": {},
   "outputs": [
    {
     "data": {
      "text/plain": [
       "9.5"
      ]
     },
     "execution_count": 3,
     "metadata": {},
     "output_type": "execute_result"
    }
   ],
   "source": [
    "#Customer 2 reuested all the meats with the minus meatballs, so that would be 3.\n",
    "total_pizza_price (3)"
   ]
  },
  {
   "cell_type": "code",
   "execution_count": 4,
   "id": "891705fe",
   "metadata": {},
   "outputs": [
    {
     "data": {
      "text/plain": [
       "8.0"
      ]
     },
     "execution_count": 4,
     "metadata": {},
     "output_type": "execute_result"
    }
   ],
   "source": [
    "#Customer 3 requested no toppings, so that would be 0.\n",
    "total_pizza_price (0)"
   ]
  },
  {
   "cell_type": "code",
   "execution_count": 5,
   "id": "a60609f4",
   "metadata": {},
   "outputs": [
    {
     "data": {
      "text/plain": [
       "12.0"
      ]
     },
     "execution_count": 5,
     "metadata": {},
     "output_type": "execute_result"
    }
   ],
   "source": [
    "#Customer 4 requested all the toppings so that would be 8.\n",
    "total_pizza_price (8)"
   ]
  },
  {
   "cell_type": "markdown",
   "id": "aa3b379b",
   "metadata": {},
   "source": [
    "Angelo is doing quite well and have been informed that his vendor Pizza2Go is offering a premium toppings for a set price! He decides that now is a great time to expand and that he can offer these items for \\$2! Below are the 5 new premium topping that have been added to the menu.\n",
    "- Five Premium Toppings (burrata, avocado, BBQ Chicken, pineapples, anchovies)\n",
    "\n",
    "Let's update our function."
   ]
  },
  {
   "cell_type": "code",
   "execution_count": 6,
   "id": "c7e8fdef",
   "metadata": {},
   "outputs": [],
   "source": [
    "def total_pizza_price1(reg_toppings_numcount, premium_toppings_numcount):\n",
    "    \"\"\"Calculates the price of a pizza.\n",
    "    \n",
    "    Based off the established base price; Input number count of both regular and premium toppings selected. \"\"\"\n",
    "    pizza_base_price = 8\n",
    "    reg_toppings_price = 0.50 \n",
    "    premium_toppings_price = 2\n",
    "    pizza_price = (pizza_base_price + (reg_toppings_numcount * reg_toppings_price) + \n",
    "                   (premium_toppings_numcount * premium_toppings_price))\n",
    "    return(pizza_price)"
   ]
  },
  {
   "cell_type": "markdown",
   "id": "96f38467",
   "metadata": {},
   "source": [
    "We will take orders from 4 more customers. Since the order it a litte more complex lets display the information in a table.\n",
    "\n"
   ]
  },
  {
   "cell_type": "markdown",
   "id": "d5508366",
   "metadata": {},
   "source": [
    "| **Customer** | **Order**                             | **Num of Reg. Toppings** | **Num of Premium Topping** |\n",
    "|--------------|---------------------------------------|--------------------------|----------------------------|\n",
    "| Customer 1:  | _BBQ Chicken, Pineapple_, Arugula     | 1                        | 2                          |\n",
    "| Customer 2:  | _Anchovies, Burrata, Avocado_         | 0                        | 3                          |\n",
    "| Customer 3:  | Olives, Mushrooms, _Avocado_, Peppers | 3                        | 1                          |\n",
    "| Customer 4:  | Your most expensive pizza!            | 8                        | 5                          |"
   ]
  },
  {
   "cell_type": "code",
   "execution_count": 7,
   "id": "817629e0",
   "metadata": {
    "scrolled": true
   },
   "outputs": [
    {
     "data": {
      "text/plain": [
       "12.5"
      ]
     },
     "execution_count": 7,
     "metadata": {},
     "output_type": "execute_result"
    }
   ],
   "source": [
    "#Customer 1\n",
    "total_pizza_price1(1,2)\n",
    "#Remember that the function inputs are order specific otherwise your output will be inaccurate. See example below."
   ]
  },
  {
   "cell_type": "code",
   "execution_count": 8,
   "id": "630a2ef3",
   "metadata": {},
   "outputs": [
    {
     "data": {
      "text/plain": [
       "11.0"
      ]
     },
     "execution_count": 8,
     "metadata": {},
     "output_type": "execute_result"
    }
   ],
   "source": [
    "#Example of inaccurate output based on inputs entered in the incorrect order for Customer 1\n",
    "total_pizza_price1(2,1)\n",
    "#Customer 1 ordered 2 premium toppings and 1 regular topping. \n",
    "#The function above produced an output for 2 regular toppings and 1 premium. Therefore money was lost.😠"
   ]
  },
  {
   "cell_type": "code",
   "execution_count": 9,
   "id": "df3fa3e3",
   "metadata": {
    "scrolled": true
   },
   "outputs": [
    {
     "data": {
      "text/plain": [
       "14.0"
      ]
     },
     "execution_count": 9,
     "metadata": {},
     "output_type": "execute_result"
    }
   ],
   "source": [
    "#Customer 2 \n",
    "total_pizza_price1(0,3)\n",
    "#Remember that the function has 2 inputs.\n",
    "#If no topping are selected you must specify that input as 0 or you will recieve an error. See example below."
   ]
  },
  {
   "cell_type": "code",
   "execution_count": 10,
   "id": "a1ef5633",
   "metadata": {},
   "outputs": [
    {
     "ename": "TypeError",
     "evalue": "total_pizza_price1() missing 1 required positional argument: 'premium_toppings_numcount'",
     "output_type": "error",
     "traceback": [
      "\u001b[1;31m---------------------------------------------------------------------------\u001b[0m",
      "\u001b[1;31mTypeError\u001b[0m                                 Traceback (most recent call last)",
      "\u001b[1;32m~\\AppData\\Local\\Temp/ipykernel_38804/1639336382.py\u001b[0m in \u001b[0;36m<module>\u001b[1;34m\u001b[0m\n\u001b[0;32m      1\u001b[0m \u001b[1;31m#Example of error recieved when a function is missing an input based on the order for Customer 2\u001b[0m\u001b[1;33m\u001b[0m\u001b[1;33m\u001b[0m\u001b[0m\n\u001b[1;32m----> 2\u001b[1;33m \u001b[0mtotal_pizza_price1\u001b[0m\u001b[1;33m(\u001b[0m\u001b[1;36m3\u001b[0m\u001b[1;33m)\u001b[0m\u001b[1;33m\u001b[0m\u001b[1;33m\u001b[0m\u001b[0m\n\u001b[0m\u001b[0;32m      3\u001b[0m \u001b[1;31m#Even though no regular toppings where selected,\u001b[0m\u001b[1;33m\u001b[0m\u001b[1;33m\u001b[0m\u001b[0m\n\u001b[0;32m      4\u001b[0m \u001b[1;31m#the function is recognize the \"3\" as the input for the 1st positional argument(regular_toppings_numcount)\u001b[0m\u001b[1;33m\u001b[0m\u001b[1;33m\u001b[0m\u001b[0m\n\u001b[0;32m      5\u001b[0m \u001b[1;31m#and is looking for the input for the 2nd positional argument(premium_toppings_numcount).\u001b[0m\u001b[1;33m\u001b[0m\u001b[1;33m\u001b[0m\u001b[0m\n",
      "\u001b[1;31mTypeError\u001b[0m: total_pizza_price1() missing 1 required positional argument: 'premium_toppings_numcount'"
     ]
    }
   ],
   "source": [
    "#Example of error recieved when a function is missing an input based on the order for Customer 2\n",
    "total_pizza_price1(3)\n",
    "#Even though no regular toppings where selected, \n",
    "#the function is recognize the \"3\" as the input for the 1st positional argument(regular_toppings_numcount) \n",
    "#and is looking for the input for the 2nd positional argument(premium_toppings_numcount)."
   ]
  },
  {
   "cell_type": "code",
   "execution_count": 11,
   "id": "820e8859",
   "metadata": {
    "scrolled": true
   },
   "outputs": [
    {
     "data": {
      "text/plain": [
       "11.5"
      ]
     },
     "execution_count": 11,
     "metadata": {},
     "output_type": "execute_result"
    }
   ],
   "source": [
    "#Customer 3 \n",
    "total_pizza_price1(3,1)"
   ]
  },
  {
   "cell_type": "code",
   "execution_count": 12,
   "id": "5840c15e",
   "metadata": {},
   "outputs": [
    {
     "data": {
      "text/plain": [
       "22.0"
      ]
     },
     "execution_count": 12,
     "metadata": {},
     "output_type": "execute_result"
    }
   ],
   "source": [
    "#Customer 4\n",
    "total_pizza_price1(8,5)"
   ]
  },
  {
   "cell_type": "markdown",
   "id": "ee21bf7a",
   "metadata": {},
   "source": [
    "### Excercise #2\n",
    "\n",
    "\n",
    "Angelo just recieved a notice from his Pizza2Go vendor stating that the prices of the sauce, cheese, glaze, toppings options have changed and as a result they are no longer similar in price! Angelo is concerned that if he doesn't adjust his prices accodingly he will began to lose money! Below is a table organizing the pizza components and their corresponding prices. \n",
    "\n",
    "| **Sauce**  | **Cheese**      | **Glaze**        | **Reg. Toppings**  | **Pre. Toppings** |\n",
    "|------------|-----------------|------------------|--------------------|-------------------|\n",
    "| Red: \\$6   | Mozzarella: \\$2 | Olive Oil: \\$1.5 | Olives: \\$0.50     | Burrata: \\$2      |\n",
    "| White: \\$5 | Feta: \\$2.5     | Balsamic: \\$1    | Mushrooms: \\$0.50  | Avocado: \\$2      |\n",
    "| Pesto: \\$7 | Ricotta: \\$2    |                  | Peppers: \\$0.50    | BBQ Chicken: \\$2  |\n",
    "|            |                 |                  | Pepperoni: \\$0.50  | Pineapple: \\$1    |\n",
    "|            |                 |                  | Sausage: \\$0.50    | Anchovies: \\$3    |\n",
    "|            |                 |                  | Meatballs: \\$0.50  |                   |\n",
    "|            |                 |                  | Arugula: \\$0.50    |                   |\n",
    "|            |                 |                  | Prosciutto: \\$0.50 |                   |\n",
    "\n",
    "Let's update our pizza price calcuation function by first sets up a Python dictionaries for our pizza components."
   ]
  },
  {
   "cell_type": "markdown",
   "id": "f929c51c",
   "metadata": {},
   "source": [
    "\n"
   ]
  },
  {
   "cell_type": "code",
   "execution_count": 13,
   "id": "57b5155f",
   "metadata": {},
   "outputs": [],
   "source": [
    "################################################################################\n",
    "# Python 'dictionaries' are used to store multiple variables at a time!\n",
    "# They are Denoted by the {} \n",
    "#\n",
    "# In this case we're using them to set prices for different pizza components.\n",
    "# Each entry in a dictionary is a 'key-value' pair, with variable name on the \n",
    "# left (the \"key\") and variable value on the right. I\n",
    "#\n",
    "# You access the values by providing the name of the variable you wish to look\n",
    "# up. For example, to get the price of pesto sauce, you'd do:\n",
    "#     sauce_prices['pesto']\n",
    "# which would return 7. Be careful, though -- if you try to lookup a key that\n",
    "# doesn't exist, you'll get an error! \n",
    "#     sauce_prices['bbq']\n",
    "################################################################################\n",
    "\n",
    "# Price list for pizza components\n",
    "sauce_prices = {'red': 6, 'white': 5, 'pesto': 7}\n",
    "cheese_prices = {'mozzarella': 2, 'feta': 2.5, 'ricotta': 2}\n",
    "glaze_prices = {'olive oil': 1.5, 'balsamic': 1}\n",
    "topping_prices = {'olives': 0.5, 'mushrooms': 0.5, 'peppers': 0.5, 'pepperoni': 0.5, 'sausage': 0.5, \n",
    "                  'meatballs': 0.5, 'arugula': 0.5, 'prosciutto': 0.5, 'burrata': 2, 'avocado': 2, \n",
    "                  'BBQ chicken': 2,'pineapple': 1,'anchovies': 3}"
   ]
  },
  {
   "cell_type": "markdown",
   "id": "e7ed37f4",
   "metadata": {},
   "source": [
    "Before we create our function let's take note of a very differences before we begin\n",
    "- Firstly, so we have created function using 2 inputs, now that we have create 4 dictionaries our function will call for 4 inputs. \n",
    "- Secondly, the inputs for this function will correspond to each key assigned in a particular dictionary that was created for each pizza component price variable(string) as opposed to a number count(intergar). \n",
    "- Lastly, because the function computes the value assigned for each varible, in this case (int & float) the function will return a float. "
   ]
  },
  {
   "cell_type": "code",
   "execution_count": 14,
   "id": "7a7bcb31",
   "metadata": {},
   "outputs": [],
   "source": [
    "def total_pizza_price2(sauce, cheese, glaze, toppings):\n",
    "    \"Calculates the price of the pizza based on the dictionaries created.\"\n",
    "    pizza_price = sauce_prices[sauce] + cheese_prices[cheese] + glaze_prices[glaze]\n",
    "    \n",
    "    # Because you can choose multiple topping we need a 'for' loop. \n",
    "    # This asks Python to repeat a step a specific number of times.\n",
    "    # We are asking Python to cycle the list of toppings and add the price assigned to each 'topping' input variable.\n",
    "    for tpg in toppings:\n",
    "        pizza_price = pizza_price + topping_prices[tpg]\n",
    "    print(\"The total price of the pizza is:\\n${0:3.2f}\\n\".format(pizza_price))\n",
    "        \n",
    "    return pizza_price"
   ]
  },
  {
   "cell_type": "code",
   "execution_count": 15,
   "id": "f99b8a72",
   "metadata": {},
   "outputs": [
    {
     "name": "stdout",
     "output_type": "stream",
     "text": [
      "The total price of the pizza is:\n",
      "$14.50\n",
      "\n"
     ]
    }
   ],
   "source": [
    "# Pizza #1\n",
    "pizza_price1 = total_pizza_price2('pesto', 'mozzarella', 'olive oil', \n",
    "                               ['avocado', 'pineapple', 'pepperoni', 'olives'])"
   ]
  },
  {
   "cell_type": "code",
   "execution_count": 16,
   "id": "0ff51b06",
   "metadata": {},
   "outputs": [
    {
     "name": "stdout",
     "output_type": "stream",
     "text": [
      "The total price of the pizza is:\n",
      "$16.00\n",
      "\n"
     ]
    }
   ],
   "source": [
    "# Pizza #2\n",
    "pizza_price2 = total_pizza_price2('red', 'feta', 'olive oil' , ['avocado', 'pineapple', 'anchovies'])"
   ]
  },
  {
   "cell_type": "code",
   "execution_count": 17,
   "id": "103f2653",
   "metadata": {},
   "outputs": [
    {
     "ename": "KeyError",
     "evalue": "'feta'",
     "output_type": "error",
     "traceback": [
      "\u001b[1;31m---------------------------------------------------------------------------\u001b[0m",
      "\u001b[1;31mKeyError\u001b[0m                                  Traceback (most recent call last)",
      "\u001b[1;32m~\\AppData\\Local\\Temp/ipykernel_38804/2600809540.py\u001b[0m in \u001b[0;36m<module>\u001b[1;34m\u001b[0m\n\u001b[0;32m      1\u001b[0m \u001b[1;31m# Pizza #3\u001b[0m\u001b[1;33m\u001b[0m\u001b[1;33m\u001b[0m\u001b[0m\n\u001b[1;32m----> 2\u001b[1;33m \u001b[0mpizza_price3\u001b[0m \u001b[1;33m=\u001b[0m \u001b[0mtotal_pizza_price2\u001b[0m\u001b[1;33m(\u001b[0m\u001b[1;34m'feta'\u001b[0m\u001b[1;33m,\u001b[0m \u001b[1;34m'feta'\u001b[0m\u001b[1;33m,\u001b[0m \u001b[1;34m'olive oil'\u001b[0m\u001b[1;33m,\u001b[0m \u001b[1;33m[\u001b[0m\u001b[1;34m'avocado'\u001b[0m\u001b[1;33m,\u001b[0m \u001b[1;34m'pineapple'\u001b[0m\u001b[1;33m,\u001b[0m \u001b[1;34m'anchovies'\u001b[0m\u001b[1;33m]\u001b[0m\u001b[1;33m)\u001b[0m\u001b[1;33m\u001b[0m\u001b[1;33m\u001b[0m\u001b[0m\n\u001b[0m\u001b[0;32m      3\u001b[0m \u001b[1;31m#Remember the input can only call keys that are assign in the associated dictionary.\u001b[0m\u001b[1;33m\u001b[0m\u001b[1;33m\u001b[0m\u001b[0m\n\u001b[0;32m      4\u001b[0m \u001b[1;31m#In this case feta is not found in the sauce_prices dictionary and an error occured.\u001b[0m\u001b[1;33m\u001b[0m\u001b[1;33m\u001b[0m\u001b[0m\n",
      "\u001b[1;32m~\\AppData\\Local\\Temp/ipykernel_38804/2276087464.py\u001b[0m in \u001b[0;36mtotal_pizza_price2\u001b[1;34m(sauce, cheese, glaze, toppings)\u001b[0m\n\u001b[0;32m      1\u001b[0m \u001b[1;32mdef\u001b[0m \u001b[0mtotal_pizza_price2\u001b[0m\u001b[1;33m(\u001b[0m\u001b[0msauce\u001b[0m\u001b[1;33m,\u001b[0m \u001b[0mcheese\u001b[0m\u001b[1;33m,\u001b[0m \u001b[0mglaze\u001b[0m\u001b[1;33m,\u001b[0m \u001b[0mtoppings\u001b[0m\u001b[1;33m)\u001b[0m\u001b[1;33m:\u001b[0m\u001b[1;33m\u001b[0m\u001b[1;33m\u001b[0m\u001b[0m\n\u001b[0;32m      2\u001b[0m     \u001b[1;34m\"Calculates the price of the pizza based on the dictionaries created.\"\u001b[0m\u001b[1;33m\u001b[0m\u001b[1;33m\u001b[0m\u001b[0m\n\u001b[1;32m----> 3\u001b[1;33m     \u001b[0mpizza_price\u001b[0m \u001b[1;33m=\u001b[0m \u001b[0msauce_prices\u001b[0m\u001b[1;33m[\u001b[0m\u001b[0msauce\u001b[0m\u001b[1;33m]\u001b[0m \u001b[1;33m+\u001b[0m \u001b[0mcheese_prices\u001b[0m\u001b[1;33m[\u001b[0m\u001b[0mcheese\u001b[0m\u001b[1;33m]\u001b[0m \u001b[1;33m+\u001b[0m \u001b[0mglaze_prices\u001b[0m\u001b[1;33m[\u001b[0m\u001b[0mglaze\u001b[0m\u001b[1;33m]\u001b[0m\u001b[1;33m\u001b[0m\u001b[1;33m\u001b[0m\u001b[0m\n\u001b[0m\u001b[0;32m      4\u001b[0m \u001b[1;33m\u001b[0m\u001b[0m\n\u001b[0;32m      5\u001b[0m     \u001b[1;31m# Because you can choose multiple topping we need a 'for' loop.\u001b[0m\u001b[1;33m\u001b[0m\u001b[1;33m\u001b[0m\u001b[0m\n",
      "\u001b[1;31mKeyError\u001b[0m: 'feta'"
     ]
    }
   ],
   "source": [
    "# Pizza #3\n",
    "pizza_price3 = total_pizza_price2('feta', 'feta', 'olive oil', ['avocado', 'pineapple', 'anchovies'])\n",
    "#Remember the input can only call keys that are assign in the associated dictionary. \n",
    "#In this case feta is not found in the sauce_prices dictionary and an error occured."
   ]
  },
  {
   "cell_type": "markdown",
   "id": "486027e3",
   "metadata": {},
   "source": [
    "Great Job! We have now completed the exercises! Now lets try to recieve our order through inputs."
   ]
  },
  {
   "cell_type": "markdown",
   "id": "8df41f98",
   "metadata": {},
   "source": [
    "### Welcome to Angelo's Pizza Wheels!\n",
    "\n",
    "To build a pizza choose one sauce, cheese,and glaze option.\n",
    "\n",
    "Then add as many toppings as you like!\n",
    "\n",
    "\n",
    "| **Sauce**  | **Cheese**      | **Glaze**        | **Reg. Toppings**  | **Pre. Toppings** |\n",
    "|------------|-----------------|------------------|--------------------|-------------------|\n",
    "| Red: \\$6   | Mozzarella: \\$2 | Olive Oil: \\$1.5 | Olives: \\$0.50     | Burrata: \\$2      |\n",
    "| White: \\$5 | Feta: \\$2.5     | Balsamic: \\$1    | Mushrooms: \\$0.50  | Avocado: \\$2      |\n",
    "| Pesto: \\$7 | Ricotta: \\$2    |                  | Peppers: \\$0.50    | BBQ Chicken: \\$2  |\n",
    "|            |                 |                  | Pepperoni: \\$0.50  | Pineapple: \\$1    |\n",
    "|            |                 |                  | Sausage: \\$0.50    | Anchovies: \\$3    |\n",
    "|            |                 |                  | Meatballs: \\$0.50  |                   |\n",
    "|            |                 |                  | Arugula: \\$0.50    |                   |\n",
    "|            |                 |                  | Prosciutto: \\$0.50 |                   |\n"
   ]
  },
  {
   "cell_type": "code",
   "execution_count": 70,
   "id": "9ca0a742",
   "metadata": {
    "scrolled": true
   },
   "outputs": [
    {
     "name": "stdout",
     "output_type": "stream",
     "text": [
      "My name is Tyler! I'll be happy to customize your Pizza Wheel today. Let's start with your the name for you order? jon\n",
      "Hi jon. What kind of sauce would you like? red\n",
      "red sauce, Yum! 😋  That is my favorite! What kind of cheese would you like? Feta\n",
      "Can't go wrong with Feta. What kind of glaze would you like? olive oil\n",
      "olive oil is always a good choice! What kind of toppings would you like? Please seperate choices with a comma. Olives, Pineapples, Avocado\n",
      "Great jon! I have a Pizza Wheel with red, Feta, olive oil, Olives, Pineapples, Avocado.\n"
     ]
    }
   ],
   "source": [
    "name = input(\"My name is Tyler! I'll be happy to customize your Pizza Wheel today. Let's start with your the name for you order? \")\n",
    "# Since I want to use the name variable below. \n",
    "# How can I ensure the value assigned to name is capitalized even if the user inputs in lowercase?\n",
    "sauce1 = input(\"Hi \" + name + \". What kind of sauce would you like? \")\n",
    "# Since the sauce starts my sentence below.\n",
    "# How can I ensure the value assigned to name is capitalized even if the user inputs in lowercase?\n",
    "cheese1 = input( sauce1 + \" sauce, Yum! 😋 \" + \" That is my favorite! What kind of cheese would you like? \")\n",
    "glaze1 = input(\"Can't go wrong with \" + cheese1 + \". What kind of glaze would you like? \")\n",
    "# Since the sauce starts my sentence below.\n",
    "# How can I ensure the value assigned to name is capitalized even if the user inputs in lowercase?\n",
    "toppings1 = input( glaze1 + \" is always a good choice! What kind of toppings would you like? Please seperate choices with a comma. \")\n",
    "print(\"Great \" + name + \"! I have a Pizza Wheel with \" + sauce1 + \", \" + cheese1 + \", \" + glaze1 + \", \" + toppings1 + \".\")\n",
    "# Is it possible to insert a string into a users input?\n",
    "# I ask the user to enter the toppings seperated by commas.\n",
    "# For my print statment I want to insert 'and' before the last entry.\n",
    "# I also would like the varible called to be lowercase in my print function is that possible?"
   ]
  },
  {
   "cell_type": "markdown",
   "id": "f5966ce0",
   "metadata": {},
   "source": [
    "# Questions:\n",
    "1. Can an input function be written so that the value inputed is not shown at the end?\n",
    "\n",
    "\n",
    "2. How can I ensure that if the user inputs 'red' instead of 'Red' that when I call the sauce variable, in the following input fucntion, the value is capitalized? or vice versa as in my other input functions? ***Please see the comments in the code above.***\n",
    "\n",
    "\n",
    "3. Is it possible to insert a string into a users input. For example, I ask the user to enter the toppings seperated by commas. For my print statment I want to insert 'and' before the last entry. At the conclusion of the input functions above you can see an example of the issue I would like to address. ***Please see the comments in the code above.***\n",
    "\n",
    "\n",
    "4. Is it possible to maybe 'def' a series of inputs as I created above and call those to run, similar to a function?\n",
    "\n",
    "\n",
    "5. When I add a dictionary can it be used for code earlier in the Jupyter notebook? Is a Jupyter notebook just a way to display and disscuss written code? How would I get these functions connected to a site or a link that I can send in which it can be tested? Would I have to copy the code into Python that I downloaded on my computer? \n",
    "\n",
    "\n",
    "6. I thought that I would be able to use the input function to get a value and store it as a variable. So that I can use that variable in my total_pizza_price2 function that I created above. \n",
    "I thought that if the values obtained from the input function aligned with the 'keys' specifcied in the dictionary that the function would work but I recieved an error code. ***Please see below for example.***"
   ]
  },
  {
   "cell_type": "code",
   "execution_count": 65,
   "id": "bced7fc7",
   "metadata": {
    "scrolled": false
   },
   "outputs": [
    {
     "name": "stdout",
     "output_type": "stream",
     "text": [
      "My name is Tyler! I'll be happy to customize your Pizza Wheel today. Let's start with your the name for you order? Jon\n",
      "Hi Jon. What kind of sauce would you like? red\n",
      "red sauce, Yum! 😋  That is my favorite! What kind of cheese would you like? Feta\n",
      "Can't go wrong with Feta. What kind of glaze would you like? olive oil\n",
      "olive oil is always a good choice! What kind of toppings would you like? Please seperate choices with a comma. olives\n",
      "Great Jon! I have a Pizza Wheel with red, Feta, olive oil, olives.\n"
     ]
    },
    {
     "ename": "KeyError",
     "evalue": "'Feta'",
     "output_type": "error",
     "traceback": [
      "\u001b[1;31m---------------------------------------------------------------------------\u001b[0m",
      "\u001b[1;31mKeyError\u001b[0m                                  Traceback (most recent call last)",
      "\u001b[1;32m~\\AppData\\Local\\Temp/ipykernel_38804/1990431434.py\u001b[0m in \u001b[0;36m<module>\u001b[1;34m\u001b[0m\n\u001b[0;32m      7\u001b[0m \u001b[0mprint\u001b[0m\u001b[1;33m(\u001b[0m\u001b[1;34m\"Great \"\u001b[0m \u001b[1;33m+\u001b[0m \u001b[0mname\u001b[0m \u001b[1;33m+\u001b[0m \u001b[1;34m\"! I have a Pizza Wheel with \"\u001b[0m \u001b[1;33m+\u001b[0m \u001b[0msauce2\u001b[0m \u001b[1;33m+\u001b[0m \u001b[1;34m\", \"\u001b[0m \u001b[1;33m+\u001b[0m \u001b[0mcheese2\u001b[0m \u001b[1;33m+\u001b[0m \u001b[1;34m\", \"\u001b[0m \u001b[1;33m+\u001b[0m \u001b[0mglaze2\u001b[0m \u001b[1;33m+\u001b[0m \u001b[1;34m\", \"\u001b[0m \u001b[1;33m+\u001b[0m \u001b[0mtoppings2\u001b[0m \u001b[1;33m+\u001b[0m \u001b[1;34m\".\"\u001b[0m\u001b[1;33m)\u001b[0m\u001b[1;33m\u001b[0m\u001b[1;33m\u001b[0m\u001b[0m\n\u001b[0;32m      8\u001b[0m \u001b[1;33m\u001b[0m\u001b[0m\n\u001b[1;32m----> 9\u001b[1;33m \u001b[0mtotal_pizza_price2\u001b[0m\u001b[1;33m(\u001b[0m\u001b[0msauce2\u001b[0m\u001b[1;33m,\u001b[0m \u001b[0mcheese2\u001b[0m\u001b[1;33m,\u001b[0m \u001b[0mglaze2\u001b[0m\u001b[1;33m,\u001b[0m \u001b[0mtoppings2\u001b[0m\u001b[1;33m)\u001b[0m\u001b[1;33m\u001b[0m\u001b[1;33m\u001b[0m\u001b[0m\n\u001b[0m\u001b[0;32m     10\u001b[0m \u001b[1;33m\u001b[0m\u001b[0m\n\u001b[0;32m     11\u001b[0m \u001b[1;31m# I thought that since I stored the values from the input functions as a variable ex. 'sauce1'\u001b[0m\u001b[1;33m\u001b[0m\u001b[1;33m\u001b[0m\u001b[0m\n",
      "\u001b[1;32m~\\AppData\\Local\\Temp/ipykernel_38804/2276087464.py\u001b[0m in \u001b[0;36mtotal_pizza_price2\u001b[1;34m(sauce, cheese, glaze, toppings)\u001b[0m\n\u001b[0;32m      1\u001b[0m \u001b[1;32mdef\u001b[0m \u001b[0mtotal_pizza_price2\u001b[0m\u001b[1;33m(\u001b[0m\u001b[0msauce\u001b[0m\u001b[1;33m,\u001b[0m \u001b[0mcheese\u001b[0m\u001b[1;33m,\u001b[0m \u001b[0mglaze\u001b[0m\u001b[1;33m,\u001b[0m \u001b[0mtoppings\u001b[0m\u001b[1;33m)\u001b[0m\u001b[1;33m:\u001b[0m\u001b[1;33m\u001b[0m\u001b[1;33m\u001b[0m\u001b[0m\n\u001b[0;32m      2\u001b[0m     \u001b[1;34m\"Calculates the price of the pizza based on the dictionaries created.\"\u001b[0m\u001b[1;33m\u001b[0m\u001b[1;33m\u001b[0m\u001b[0m\n\u001b[1;32m----> 3\u001b[1;33m     \u001b[0mpizza_price\u001b[0m \u001b[1;33m=\u001b[0m \u001b[0msauce_prices\u001b[0m\u001b[1;33m[\u001b[0m\u001b[0msauce\u001b[0m\u001b[1;33m]\u001b[0m \u001b[1;33m+\u001b[0m \u001b[0mcheese_prices\u001b[0m\u001b[1;33m[\u001b[0m\u001b[0mcheese\u001b[0m\u001b[1;33m]\u001b[0m \u001b[1;33m+\u001b[0m \u001b[0mglaze_prices\u001b[0m\u001b[1;33m[\u001b[0m\u001b[0mglaze\u001b[0m\u001b[1;33m]\u001b[0m\u001b[1;33m\u001b[0m\u001b[1;33m\u001b[0m\u001b[0m\n\u001b[0m\u001b[0;32m      4\u001b[0m \u001b[1;33m\u001b[0m\u001b[0m\n\u001b[0;32m      5\u001b[0m     \u001b[1;31m# Because you can choose multiple topping we need a 'for' loop.\u001b[0m\u001b[1;33m\u001b[0m\u001b[1;33m\u001b[0m\u001b[0m\n",
      "\u001b[1;31mKeyError\u001b[0m: 'Feta'"
     ]
    }
   ],
   "source": [
    "name = input(\"My name is Tyler! I'll be happy to customize your Pizza Wheel today. Let's start with your the name for you order? \")\n",
    "sauce2 = input(\"Hi \" + name + \". What kind of sauce would you like? \")\n",
    "cheese2 = input( sauce2 + \" sauce, Yum! 😋 \" + \" That is my favorite! What kind of cheese would you like? \")\n",
    "glaze2 = input(\"Can't go wrong with \" + cheese2 + \". What kind of glaze would you like? \")\n",
    "toppings2 = input( glaze2 + \" is always a good choice! What kind of toppings would you like? Please seperate choices with a comma. \")\n",
    "\n",
    "print(\"Great \" + name + \"! I have a Pizza Wheel with \" + sauce2 + \", \" + cheese2 + \", \" + glaze2 + \", \" + toppings2 + \".\")\n",
    "\n",
    "total_pizza_price2(sauce2, cheese2, glaze2, toppings2)\n",
    "\n",
    "# I thought that since I stored the values from the input functions as a variable ex. 'sauce1'\n",
    "# And those values corresponded to the 'keys' stored in the dictionary.\n",
    "# That I would be able to use the variables created in my function to call the values stored in the dictionary and \n",
    "# And my function would work."
   ]
  },
  {
   "cell_type": "markdown",
   "id": "6d3024af",
   "metadata": {},
   "source": [
    "# Discovery & Follow-Up Questions:\n",
    "Because I've ran this code a few times, I realized that the 'KeyError' kept changing based on my entries. So I realized my function might not be working because the dictionaries are set up with lowercase 'keys'. With this discovery I have a few questions.\n",
    "\n",
    "1. Am I on the right track with this thought process? If so is it possible that when I call the function I can ensure that the inputs are lowercase?\n",
    "2. What about typos? Is there some type of \"commonly misspelling of words\" database that I can use for my input functions that maybe asks \"did you mean\"? or just outputs it as the correct spelling all together?"
   ]
  },
  {
   "cell_type": "code",
   "execution_count": 68,
   "id": "c136b209",
   "metadata": {},
   "outputs": [
    {
     "name": "stdout",
     "output_type": "stream",
     "text": [
      "My name is Tyler! I'll be happy to customize your Pizza Wheel today. Let's start with your the name for you order? Jon\n",
      "Hi Jon. What kind of sauce would you like? red\n",
      "red sauce, Yum! 😋  That is my favorite! What kind of cheese would you like? feta\n",
      "Can't go wrong with feta. What kind of glaze would you like? olive oil\n",
      "olive oil is always a good choice! What kind of toppings would you like? Please seperate choices with a comma. olives\n",
      "Great Jon! I have a Pizza Wheel with red, feta, olive oil, olives.\n"
     ]
    },
    {
     "ename": "KeyError",
     "evalue": "'o'",
     "output_type": "error",
     "traceback": [
      "\u001b[1;31m---------------------------------------------------------------------------\u001b[0m",
      "\u001b[1;31mKeyError\u001b[0m                                  Traceback (most recent call last)",
      "\u001b[1;32m~\\AppData\\Local\\Temp/ipykernel_38804/1990431434.py\u001b[0m in \u001b[0;36m<module>\u001b[1;34m\u001b[0m\n\u001b[0;32m      7\u001b[0m \u001b[0mprint\u001b[0m\u001b[1;33m(\u001b[0m\u001b[1;34m\"Great \"\u001b[0m \u001b[1;33m+\u001b[0m \u001b[0mname\u001b[0m \u001b[1;33m+\u001b[0m \u001b[1;34m\"! I have a Pizza Wheel with \"\u001b[0m \u001b[1;33m+\u001b[0m \u001b[0msauce2\u001b[0m \u001b[1;33m+\u001b[0m \u001b[1;34m\", \"\u001b[0m \u001b[1;33m+\u001b[0m \u001b[0mcheese2\u001b[0m \u001b[1;33m+\u001b[0m \u001b[1;34m\", \"\u001b[0m \u001b[1;33m+\u001b[0m \u001b[0mglaze2\u001b[0m \u001b[1;33m+\u001b[0m \u001b[1;34m\", \"\u001b[0m \u001b[1;33m+\u001b[0m \u001b[0mtoppings2\u001b[0m \u001b[1;33m+\u001b[0m \u001b[1;34m\".\"\u001b[0m\u001b[1;33m)\u001b[0m\u001b[1;33m\u001b[0m\u001b[1;33m\u001b[0m\u001b[0m\n\u001b[0;32m      8\u001b[0m \u001b[1;33m\u001b[0m\u001b[0m\n\u001b[1;32m----> 9\u001b[1;33m \u001b[0mtotal_pizza_price2\u001b[0m\u001b[1;33m(\u001b[0m\u001b[0msauce2\u001b[0m\u001b[1;33m,\u001b[0m \u001b[0mcheese2\u001b[0m\u001b[1;33m,\u001b[0m \u001b[0mglaze2\u001b[0m\u001b[1;33m,\u001b[0m \u001b[0mtoppings2\u001b[0m\u001b[1;33m)\u001b[0m\u001b[1;33m\u001b[0m\u001b[1;33m\u001b[0m\u001b[0m\n\u001b[0m\u001b[0;32m     10\u001b[0m \u001b[1;33m\u001b[0m\u001b[0m\n\u001b[0;32m     11\u001b[0m \u001b[1;31m# I thought that since I stored the values from the input functions as a variable ex. 'sauce1'\u001b[0m\u001b[1;33m\u001b[0m\u001b[1;33m\u001b[0m\u001b[0m\n",
      "\u001b[1;32m~\\AppData\\Local\\Temp/ipykernel_38804/2276087464.py\u001b[0m in \u001b[0;36mtotal_pizza_price2\u001b[1;34m(sauce, cheese, glaze, toppings)\u001b[0m\n\u001b[0;32m      7\u001b[0m     \u001b[1;31m# We are asking Python to cycle the list of toppings and add the price assigned to each 'topping' input variable.\u001b[0m\u001b[1;33m\u001b[0m\u001b[1;33m\u001b[0m\u001b[0m\n\u001b[0;32m      8\u001b[0m     \u001b[1;32mfor\u001b[0m \u001b[0mtpg\u001b[0m \u001b[1;32min\u001b[0m \u001b[0mtoppings\u001b[0m\u001b[1;33m:\u001b[0m\u001b[1;33m\u001b[0m\u001b[1;33m\u001b[0m\u001b[0m\n\u001b[1;32m----> 9\u001b[1;33m         \u001b[0mpizza_price\u001b[0m \u001b[1;33m=\u001b[0m \u001b[0mpizza_price\u001b[0m \u001b[1;33m+\u001b[0m \u001b[0mtopping_prices\u001b[0m\u001b[1;33m[\u001b[0m\u001b[0mtpg\u001b[0m\u001b[1;33m]\u001b[0m\u001b[1;33m\u001b[0m\u001b[1;33m\u001b[0m\u001b[0m\n\u001b[0m\u001b[0;32m     10\u001b[0m     \u001b[0mprint\u001b[0m\u001b[1;33m(\u001b[0m\u001b[1;34m\"The total price of the pizza is:\\n${0:3.2f}\\n\"\u001b[0m\u001b[1;33m.\u001b[0m\u001b[0mformat\u001b[0m\u001b[1;33m(\u001b[0m\u001b[0mpizza_price\u001b[0m\u001b[1;33m)\u001b[0m\u001b[1;33m)\u001b[0m\u001b[1;33m\u001b[0m\u001b[1;33m\u001b[0m\u001b[0m\n\u001b[0;32m     11\u001b[0m \u001b[1;33m\u001b[0m\u001b[0m\n",
      "\u001b[1;31mKeyError\u001b[0m: 'o'"
     ]
    }
   ],
   "source": [
    "name = input(\"My name is Tyler! I'll be happy to customize your Pizza Wheel today. Let's start with your the name for you order? \")\n",
    "sauce2 = input(\"Hi \" + name + \". What kind of sauce would you like? \")\n",
    "cheese2 = input( sauce2 + \" sauce, Yum! 😋 \" + \" That is my favorite! What kind of cheese would you like? \")\n",
    "glaze2 = input(\"Can't go wrong with \" + cheese2 + \". What kind of glaze would you like? \")\n",
    "toppings2 = input( glaze2 + \" is always a good choice! What kind of toppings would you like? Please seperate choices with a comma. \")\n",
    "\n",
    "print(\"Great \" + name + \"! I have a Pizza Wheel with \" + sauce2 + \", \" + cheese2 + \", \" + glaze2 + \", \" + toppings2 + \".\")\n",
    "\n",
    "total_pizza_price2(sauce2, cheese2, glaze2, toppings2)"
   ]
  },
  {
   "cell_type": "markdown",
   "id": "79e0676f",
   "metadata": {},
   "source": [
    "Seems like that was in fact the solution for one error but now we have another. Looks like its looking for the 'o' in olives within the toppings dictionary. Why is that? \n",
    "So far it seems like maybe my idea would work but the for loop doesnt seem to like it.\n",
    "\n",
    "\n",
    "I think I am going to try the pizza calculation with the topping just to see if it would work. "
   ]
  },
  {
   "cell_type": "code",
   "execution_count": 73,
   "id": "d6f35e5a",
   "metadata": {
    "scrolled": true
   },
   "outputs": [
    {
     "name": "stdout",
     "output_type": "stream",
     "text": [
      "My name is Tyler! I'll be happy to customize your Pizza Wheel today. Let's start with your the name for you order? Jon\n",
      "Hi Jon. What kind of sauce would you like? white\n",
      "white sauce, Yum! 😋  That is my favorite! What kind of cheese would you like? feta\n",
      "Can't go wrong with feta. What kind of glaze would you like? olive oil\n",
      "Great Jon! I have a Pizza Wheel with white, feta, olive oil.\n",
      "The total price of the pizza is:\n",
      "$9.00\n",
      "\n"
     ]
    },
    {
     "data": {
      "text/plain": [
       "9.0"
      ]
     },
     "execution_count": 73,
     "metadata": {},
     "output_type": "execute_result"
    }
   ],
   "source": [
    "def total_pizza_price3(sauce, cheese, glaze):\n",
    "    \"Calculates the price of the pizza based on the dictionaries created without toppings.\"\n",
    "    pizza_price = sauce_prices[sauce] + cheese_prices[cheese] + glaze_prices[glaze]\n",
    "    \n",
    "    print(\"The total price of the pizza is:\\n${0:3.2f}\\n\".format(pizza_price))\n",
    "        \n",
    "    return pizza_price\n",
    "\n",
    "name = input(\"My name is Tyler! I'll be happy to customize your Pizza Wheel today. Let's start with your the name for you order? \")\n",
    "sauce2 = input(\"Hi \" + name + \". What kind of sauce would you like? \")\n",
    "cheese2 = input( sauce2 + \" sauce, Yum! 😋 \" + \" That is my favorite! What kind of cheese would you like? \")\n",
    "glaze2 = input(\"Can't go wrong with \" + cheese2 + \". What kind of glaze would you like? \")\n",
    "\n",
    "print(\"Great \" + name + \"! I have a Pizza Wheel with \" + sauce2 + \", \" + cheese2 + \", \" + glaze2 + \".\")\n",
    "\n",
    "total_pizza_price3(sauce2, cheese2, glaze2)\n"
   ]
  },
  {
   "cell_type": "markdown",
   "id": "678dbd2e",
   "metadata": {},
   "source": [
    "### YAY!!!!!! \n",
    "### IT WORKED!!!!!! \n",
    "<img src=\"https://media1.tenor.com/images/015548e9db44c687088a6814f83b6e01/tenor.gif?itemid=16812994\"/>"
   ]
  }
 ],
 "metadata": {
  "kernelspec": {
   "display_name": "Python 3 (ipykernel)",
   "language": "python",
   "name": "python3"
  },
  "language_info": {
   "codemirror_mode": {
    "name": "ipython",
    "version": 3
   },
   "file_extension": ".py",
   "mimetype": "text/x-python",
   "name": "python",
   "nbconvert_exporter": "python",
   "pygments_lexer": "ipython3",
   "version": "3.9.7"
  }
 },
 "nbformat": 4,
 "nbformat_minor": 5
}
